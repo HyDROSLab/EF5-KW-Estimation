{
 "cells": [
  {
   "cell_type": "markdown",
   "metadata": {},
   "source": [
    "# Kinematic Wave Parameter Estimation"
   ]
  },
  {
   "cell_type": "markdown",
   "metadata": {},
   "source": [
    "## Requirements\n",
    "\n",
    "This module uses information from the USGS stations over the CONUS to generate a statistical model for estimating the kinematic wave alpha and beta parameters for a given grid. The already trained model is provided here.\n",
    "\n",
    "This model requires basin averaged estimates of the following variables:\n",
    "* Mean annual temperature (degrees C)\n",
    "* Mean annual precipitation (mm)\n",
    "* Impervious area (%)\n",
    "* Clay (%)\n",
    "* Sand (%)\n",
    "* Silt (%)\n",
    "* Relief ratio\n",
    "* Course Fragments (%)\n",
    "* Depth to bedrock (mm)\n",
    "* Bulk Density\n",
    "* Population"
   ]
  },
  {
   "cell_type": "code",
   "execution_count": 15,
   "metadata": {},
   "outputs": [],
   "source": [
    "from ef5_kw_estimate import ReadGrid, WriteGrid\n",
    "import numpy as np\n",
    "import pickle"
   ]
  },
  {
   "cell_type": "markdown",
   "metadata": {},
   "source": [
    "## Read in the input grids"
   ]
  },
  {
   "cell_type": "code",
   "execution_count": 9,
   "metadata": {},
   "outputs": [],
   "source": [
    "# keepInfo=True keeps the projection and spatial reference information for this grid...\n",
    "# to use when writing the output grids\n",
    "# We need log basin area, so compute that here\n",
    "basinArea = ReadGrid(\"input_grids/basin.area.tif\", keepInfo=True)\n",
    "basinArea = np.log10(basinArea)\n",
    "\n",
    "temp = ReadGrid(\"input_grids/temp.avg.tif\")\n",
    "precip = ReadGrid(\"input_grids/precip.avg.tif\")\n",
    "imperv = ReadGrid(\"input_grids/imperv.avg.tif\")\n",
    "clay = ReadGrid(\"input_grids/clay_pct.avg.tif\")\n",
    "sand = ReadGrid(\"input_grids/sand_pct.avg.tif\")\n",
    "silt = ReadGrid(\"input_grids/silt_pct.avg.tif\")\n",
    "rr = ReadGrid(\"input_grids/relief.ratio.avg.tif\")\n",
    "frags = ReadGrid(\"input_grids/course_fragments.avg.tif\")\n",
    "bedrock = ReadGrid(\"input_grids/abs_depth_bedrock.avg.tif\")\n",
    "density = ReadGrid(\"input_grids/bulk_density.avg.tif\")\n",
    "pop = ReadGrid(\"input_grids/population.avg.tif\")"
   ]
  },
  {
   "cell_type": "markdown",
   "metadata": {},
   "source": [
    "## Load the pickled models so we can run them on our data"
   ]
  },
  {
   "cell_type": "code",
   "execution_count": 16,
   "metadata": {},
   "outputs": [
    {
     "name": "stderr",
     "output_type": "stream",
     "text": [
      "/usr/lib/python3.5/site-packages/sklearn/base.py:311: UserWarning: Trying to unpickle estimator StandardScaler from version 0.18.1 when using version 0.19.1. This might lead to breaking code or invalid results. Use at your own risk.\n",
      "  UserWarning)\n",
      "/usr/lib/python3.5/site-packages/sklearn/base.py:311: UserWarning: Trying to unpickle estimator SVR from version 0.18.1 when using version 0.19.1. This might lead to breaking code or invalid results. Use at your own risk.\n",
      "  UserWarning)\n"
     ]
    }
   ],
   "source": [
    "scaler = pickle.load(open(\"scaler.p\", \"rb\"), encoding='latin1')\n",
    "alphamod = pickle.load(open(\"alpha_model.p\", \"rb\"), encoding='latin1')\n",
    "betamod = pickle.load(open(\"beta_model.p\", \"rb\"), encoding='latin1')"
   ]
  },
  {
   "cell_type": "markdown",
   "metadata": {},
   "source": [
    "## Run the models to estimate alpha & beta"
   ]
  },
  {
   "cell_type": "code",
   "execution_count": 17,
   "metadata": {},
   "outputs": [
    {
     "name": "stdout",
     "output_type": "stream",
     "text": [
      "Transforming to scaled parameter space\n",
      "Computing alpha\n",
      "Computing beta\n"
     ]
    }
   ],
   "source": [
    "print(\"Transforming to scaled parameter space\")\n",
    "pred_real = scaler.transform(np.column_stack((basinArea, temp, precip, clay, sand, silt, rr, frags, bedrock, imperv, density, pop)))\n",
    "\n",
    "print(\"Computing alpha\")\n",
    "alpha = alphamod.predict(pred_real)\n",
    "alpha = np.power(10.0, alpha)\n",
    "\n",
    "print(\"Computing beta\")\n",
    "beta = betamod.predict(pred_real)\n",
    "\n",
    "# Since the model extrapolates, we do a trick here to bound the minimum beta to 0.\n",
    "bad = np.where(beta < 0.0)\n",
    "beta[bad] = np.exp(beta[bad] * 10.0)"
   ]
  },
  {
   "cell_type": "markdown",
   "metadata": {},
   "source": [
    "## Write the new parameter grids to disk"
   ]
  },
  {
   "cell_type": "code",
   "execution_count": 18,
   "metadata": {},
   "outputs": [],
   "source": [
    "WriteGrid(\"output_grids/kw_alpha.tif\", alpha)\n",
    "WriteGrid(\"output_grids/kw_beta.tif\", beta)"
   ]
  },
  {
   "cell_type": "code",
   "execution_count": null,
   "metadata": {},
   "outputs": [],
   "source": []
  }
 ],
 "metadata": {
  "kernelspec": {
   "display_name": "Python 3",
   "language": "python",
   "name": "python3"
  },
  "language_info": {
   "codemirror_mode": {
    "name": "ipython",
    "version": 3
   },
   "file_extension": ".py",
   "mimetype": "text/x-python",
   "name": "python",
   "nbconvert_exporter": "python",
   "pygments_lexer": "ipython3",
   "version": "3.5.2"
  }
 },
 "nbformat": 4,
 "nbformat_minor": 2
}
